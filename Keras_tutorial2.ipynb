from tensorflow import keras "從keras庫中引入Sequential類別和Dense、Dropout等類別"
from keras.models import Sequential
from keras.layers import Dense, Dropout
 
model = Sequential()
model.add(Dense(512, activation='relu', input_dim=784))
model.add(Dropout(0.2))
model.add(Dense(10, activation='softmax'))
model.compile(optimizer='adam', loss='categorical_crossentropy', metrics=['accuracy'])
 
import numpy as np "從numpy導入，並生成1000個隨機數作為輸入數據，以及1000個隨機整數作為對應的標籤。"
data = np.random.random((1000, 784)) 
labels = np.random.randint(10, size=(1000, 10))
 
model.fit(data, labels, epochs=10, batch_size=32)

score=model.evaluate(data, labels)
print(score[1])
