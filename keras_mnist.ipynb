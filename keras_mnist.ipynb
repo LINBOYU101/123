{
  "nbformat": 4,
  "nbformat_minor": 0,
  "metadata": {
    "colab": {
      "provenance": []
    },
    "kernelspec": {
      "name": "python3",
      "display_name": "Python 3"
    },
    "language_info": {
      "name": "python"
    }
  },
  "cells": [
    {
      "cell_type": "code",
      "execution_count": null,
      "metadata": {
        "id": "GR0a2btyjeMF"
      },
      "outputs": [],
      "source": [
        "from tensorflow import keras \"從 TensorFlow 導入 keras\"\n",
        "from keras.models import Sequential \"從 keras.models 導入 Sequential\"\n",
        "from keras.layers import Dense, Flatten \"從 keras.layers 導入 密集， 扁平\"\n",
        "model=Sequential() \"將模型定義為順序物件\"\n",
        "model.add(Flatten())\n",
        "model.add(Dense(32, activation='relu', input_dim=784))\n",
        "model.add(Dense(10, activation='sigmoid'))\n",
        "model.compile(optimizer='rmsprop', loss='sparse_categorical_crossentropy', metrics=['accuracy'])\n",
        "mnist=keras.datasets.mnist\n",
        "(train_data, train_label), (test_data, test_label) = mnist.load_data()\n",
        "print(type(train_data))\n",
        "print(train_data.shape)\n",
        "print(type(train_label))\n",
        "print(train_label.shape)\n",
        "print(test_data.shape)\n",
        "print(test_label.shape)\n",
        "print(train_label[0])\n",
        "print(train_data[0])\n",
        "import matplotlib.pyplot as plt\n",
        "plt.imshow(train_data[0], cmap='binary')\n",
        "plt.show()\n",
        "score=model.evaluate(test_data, test_label)\n",
        "print(score[1])"
      ]
    }
  ]
}